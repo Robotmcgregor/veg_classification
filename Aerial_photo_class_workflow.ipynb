{
 "cells": [
  {
   "cell_type": "code",
   "execution_count": null,
   "metadata": {},
   "outputs": [],
   "source": [
    "# produce the list of the individual shapefiles for each of the regions along the project area "
   ]
  },
  {
   "cell_type": "code",
   "execution_count": 2,
   "metadata": {},
   "outputs": [],
   "source": [
    "%run C:\\Users\\grants\\Desktop\\Aerial_photo_analysis\\data_processing\\list_of_files_in_dir.py --direc C:\\DATA\\todd\\example\\shp \\\n",
    "    --exten .shp --txtfile C:\\DATA\\todd\\example\\shp\\shp_list.csv"
   ]
  },
  {
   "cell_type": "code",
   "execution_count": null,
   "metadata": {},
   "outputs": [],
   "source": [
    "# the next block of code produces the list needed to input into the multi clip script which produces the image chips \n",
    "# from the aerial photogrpahy. "
   ]
  },
  {
   "cell_type": "code",
   "execution_count": 3,
   "metadata": {},
   "outputs": [
    {
     "name": "stdout",
     "output_type": "stream",
     "text": [
      "C:/DATA/todd/example/shp/clip_list.csv\n"
     ]
    }
   ],
   "source": [
    "import pandas as pd\n",
    "\n",
    "\"\"\"\n",
    "read in the list of shapefiles and clean up the list to input \n",
    "into the multi clip script\n",
    "\"\"\"\n",
    "\n",
    "# provide the path to the folder with the list of shapfiles\n",
    "path = r\"C:/DATA/todd/example/shp/\"\n",
    "\n",
    "# provide the path and name of the raster imagery being clipped.\n",
    "img = r\"C:/DATA/todd/example/asp_2015_15cm_02_wgs84.tif\"\n",
    "\n",
    "data = path + r\"shp_list.csv\"\n",
    "\n",
    "clip_list = pd.read_csv(data, header=None)\n",
    "clip_list['img'] = img\n",
    "clip_list.columns=['shp','img']\n",
    "clip_list.head(3)\n",
    "clip_list_final = clip_list[['img','shp']]\n",
    "path = data[:-12]\n",
    "\n",
    "print (path + 'clip_list.csv')\n",
    "clip_list_final.to_csv(path + 'clip_list.csv')"
   ]
  },
  {
   "cell_type": "code",
   "execution_count": null,
   "metadata": {},
   "outputs": [],
   "source": [
    "# cd to the directory containing all of the individual shapefiles"
   ]
  },
  {
   "cell_type": "code",
   "execution_count": 5,
   "metadata": {},
   "outputs": [
    {
     "name": "stdout",
     "output_type": "stream",
     "text": [
      "C:\\DATA\\todd\\example\\shp\n"
     ]
    }
   ],
   "source": [
    "cd C:\\DATA\\todd\\example\\shp"
   ]
  },
  {
   "cell_type": "code",
   "execution_count": null,
   "metadata": {},
   "outputs": [],
   "source": [
    "# run the script which clips out all of the image chips \n",
    "# this script renames each individual image chip using the unique id in the shapefile name"
   ]
  },
  {
   "cell_type": "code",
   "execution_count": null,
   "metadata": {},
   "outputs": [],
   "source": [
    "%run C:/Users/grants/code/img_proc/multi_clip_tool_rasterio.py -i C:/DATA/todd/example/shp/clip_list.csv"
   ]
  },
  {
   "cell_type": "code",
   "execution_count": null,
   "metadata": {},
   "outputs": [],
   "source": [
    "# create a list of image chips to be classifed "
   ]
  },
  {
   "cell_type": "code",
   "execution_count": 6,
   "metadata": {},
   "outputs": [],
   "source": [
    "%run C:\\Users\\grants\\Desktop\\Aerial_photo_analysis\\data_processing\\list_of_files_in_dir.py --direc C:\\DATA\\todd\\example\\shp \\\n",
    "    --exten .tif --txtfile C:\\DATA\\todd\\example\\shp\\img_list.csv"
   ]
  },
  {
   "cell_type": "code",
   "execution_count": null,
   "metadata": {},
   "outputs": [],
   "source": [
    "# cd to the directory containing the classifier "
   ]
  },
  {
   "cell_type": "code",
   "execution_count": 7,
   "metadata": {},
   "outputs": [
    {
     "name": "stdout",
     "output_type": "stream",
     "text": [
      "C:\\users\\grants\\code\\ap_classifer\n"
     ]
    }
   ],
   "source": [
    "cd C:\\users\\grants\\code\\ap_classifer"
   ]
  },
  {
   "cell_type": "code",
   "execution_count": null,
   "metadata": {},
   "outputs": [],
   "source": [
    "# run the help function on the script which applies the rgb aerial photograph classifier to each of the image chips\n",
    "# this script calls a script which applies the classifer to individual imagery. "
   ]
  },
  {
   "cell_type": "code",
   "execution_count": 9,
   "metadata": {},
   "outputs": [
    {
     "name": "stdout",
     "output_type": "stream",
     "text": [
      "usage: apply_rgb_comb_classifier_multi.py [-h] [-s IMGLIST] [-d DIREC]\n",
      "                                          [-c CSV]\n",
      "\n",
      "optional arguments:\n",
      "  -h, --help            show this help message and exit\n",
      "  -s IMGLIST, --imglist IMGLIST\n",
      "                        provide the path and name of the csv file with the\n",
      "                        list of imagery to process\n",
      "  -d DIREC, --direc DIREC\n",
      "                        path to the directory containing the imagery\n",
      "  -c CSV, --csv CSV     provide the path to the directory and name of the csv\n",
      "                        file containing the results\n"
     ]
    }
   ],
   "source": [
    "%run apply_rgb_comb_classifier_multi.py -h"
   ]
  },
  {
   "cell_type": "code",
   "execution_count": null,
   "metadata": {},
   "outputs": [],
   "source": [
    "# input the command line arguments requried to run the script\n",
    "# this script outputs the classified image chip and also extracts out the FPC value \n",
    "# the FPC values for each image chip are saved out to a csv file "
   ]
  },
  {
   "cell_type": "code",
   "execution_count": 15,
   "metadata": {},
   "outputs": [
    {
     "name": "stdout",
     "output_type": "stream",
     "text": [
      "C:/DATA/todd/example/shp/grd_50m4_ID__100_rgb_comb_class2.tif complete\n",
      "C:/DATA/todd/example/shp/grd_50m4_ID__101_rgb_comb_class2.tif complete\n",
      "C:/DATA/todd/example/shp/grd_50m4_ID__1016_rgb_comb_class2.tif complete\n",
      "C:/DATA/todd/example/shp/grd_50m4_ID__1017_rgb_comb_class2.tif complete\n",
      "C:/DATA/todd/example/shp/grd_50m4_ID__1018_rgb_comb_class2.tif complete\n",
      "C:/DATA/todd/example/shp/grd_50m4_ID__1019_rgb_comb_class2.tif complete\n",
      "C:/DATA/todd/example/shp/grd_50m4_ID__102_rgb_comb_class2.tif complete\n",
      "C:/DATA/todd/example/shp/grd_50m4_ID__103_rgb_comb_class2.tif complete\n",
      "C:/DATA/todd/example/shp/grd_50m4_ID__1044_rgb_comb_class2.tif complete\n",
      "C:/DATA/todd/example/shp/grd_50m4_ID__1045_rgb_comb_class2.tif complete\n",
      "C:/DATA/todd/example/shp/grd_50m4_ID__1046_rgb_comb_class2.tif complete\n",
      "C:/DATA/todd/example/shp/grd_50m4_ID__1047_rgb_comb_class2.tif complete\n",
      "C:/DATA/todd/example/shp/grd_50m4_ID__1071_rgb_comb_class2.tif complete\n",
      "C:/DATA/todd/example/shp/grd_50m4_ID__1072_rgb_comb_class2.tif complete\n",
      "C:/DATA/todd/example/shp/grd_50m4_ID__1073_rgb_comb_class2.tif complete\n",
      "C:/DATA/todd/example/shp/grd_50m4_ID__1074_rgb_comb_class2.tif complete\n",
      "C:/DATA/todd/example/shp/grd_50m4_ID__1099_rgb_comb_class2.tif complete\n",
      "C:/DATA/todd/example/shp/grd_50m4_ID__1100_rgb_comb_class2.tif complete\n",
      "C:/DATA/todd/example/shp/grd_50m4_ID__1101_rgb_comb_class2.tif complete\n",
      "C:/DATA/todd/example/shp/grd_50m4_ID__1102_rgb_comb_class2.tif complete\n",
      "C:/DATA/todd/example/shp/grd_50m4_ID__1127_rgb_comb_class2.tif complete\n",
      "C:/DATA/todd/example/shp/grd_50m4_ID__1128_rgb_comb_class2.tif complete\n",
      "C:/DATA/todd/example/shp/grd_50m4_ID__1129_rgb_comb_class2.tif complete\n",
      "C:/DATA/todd/example/shp/grd_50m4_ID__1130_rgb_comb_class2.tif complete\n",
      "C:/DATA/todd/example/shp/grd_50m4_ID__1155_rgb_comb_class2.tif complete\n",
      "C:/DATA/todd/example/shp/grd_50m4_ID__1156_rgb_comb_class2.tif complete\n",
      "C:/DATA/todd/example/shp/grd_50m4_ID__1157_rgb_comb_class2.tif complete\n",
      "C:/DATA/todd/example/shp/grd_50m4_ID__1158_rgb_comb_class2.tif complete\n",
      "C:/DATA/todd/example/shp/grd_50m4_ID__1182_rgb_comb_class2.tif complete\n",
      "C:/DATA/todd/example/shp/grd_50m4_ID__1183_rgb_comb_class2.tif complete\n",
      "C:/DATA/todd/example/shp/grd_50m4_ID__1184_rgb_comb_class2.tif complete\n",
      "C:/DATA/todd/example/shp/grd_50m4_ID__1185_rgb_comb_class2.tif complete\n",
      "C:/DATA/todd/example/shp/grd_50m4_ID__1186_rgb_comb_class2.tif complete\n",
      "C:/DATA/todd/example/shp/grd_50m4_ID__1210_rgb_comb_class2.tif complete\n",
      "C:/DATA/todd/example/shp/grd_50m4_ID__1211_rgb_comb_class2.tif complete\n",
      "C:/DATA/todd/example/shp/grd_50m4_ID__1212_rgb_comb_class2.tif complete\n",
      "C:/DATA/todd/example/shp/grd_50m4_ID__1213_rgb_comb_class2.tif complete\n",
      "C:/DATA/todd/example/shp/grd_50m4_ID__1214_rgb_comb_class2.tif complete\n",
      "C:/DATA/todd/example/shp/grd_50m4_ID__1238_rgb_comb_class2.tif complete\n",
      "C:/DATA/todd/example/shp/grd_50m4_ID__1239_rgb_comb_class2.tif complete\n",
      "C:/DATA/todd/example/shp/grd_50m4_ID__1240_rgb_comb_class2.tif complete\n",
      "C:/DATA/todd/example/shp/grd_50m4_ID__1241_rgb_comb_class2.tif complete\n",
      "C:/DATA/todd/example/shp/grd_50m4_ID__1266_rgb_comb_class2.tif complete\n",
      "C:/DATA/todd/example/shp/grd_50m4_ID__1267_rgb_comb_class2.tif complete\n",
      "C:/DATA/todd/example/shp/grd_50m4_ID__1268_rgb_comb_class2.tif complete\n",
      "C:/DATA/todd/example/shp/grd_50m4_ID__1269_rgb_comb_class2.tif complete\n",
      "C:/DATA/todd/example/shp/grd_50m4_ID__128_rgb_comb_class2.tif complete\n",
      "C:/DATA/todd/example/shp/grd_50m4_ID__129_rgb_comb_class2.tif complete\n",
      "C:/DATA/todd/example/shp/grd_50m4_ID__1294_rgb_comb_class2.tif complete\n",
      "C:/DATA/todd/example/shp/grd_50m4_ID__1295_rgb_comb_class2.tif complete\n",
      "C:/DATA/todd/example/shp/grd_50m4_ID__1296_rgb_comb_class2.tif complete\n",
      "C:/DATA/todd/example/shp/grd_50m4_ID__1297_rgb_comb_class2.tif complete\n",
      "C:/DATA/todd/example/shp/grd_50m4_ID__130_rgb_comb_class2.tif complete\n",
      "C:/DATA/todd/example/shp/grd_50m4_ID__131_rgb_comb_class2.tif complete\n",
      "C:/DATA/todd/example/shp/grd_50m4_ID__1321_rgb_comb_class2.tif complete\n",
      "C:/DATA/todd/example/shp/grd_50m4_ID__1322_rgb_comb_class2.tif complete\n",
      "C:/DATA/todd/example/shp/grd_50m4_ID__1323_rgb_comb_class2.tif complete\n",
      "C:/DATA/todd/example/shp/grd_50m4_ID__1324_rgb_comb_class2.tif complete\n",
      "C:/DATA/todd/example/shp/grd_50m4_ID__1325_rgb_comb_class2.tif complete\n",
      "C:/DATA/todd/example/shp/grd_50m4_ID__1349_rgb_comb_class2.tif complete\n",
      "C:/DATA/todd/example/shp/grd_50m4_ID__1350_rgb_comb_class2.tif complete\n",
      "C:/DATA/todd/example/shp/grd_50m4_ID__1351_rgb_comb_class2.tif complete\n",
      "C:/DATA/todd/example/shp/grd_50m4_ID__1352_rgb_comb_class2.tif complete\n",
      "C:/DATA/todd/example/shp/grd_50m4_ID__1353_rgb_comb_class2.tif complete\n",
      "C:/DATA/todd/example/shp/grd_50m4_ID__1377_rgb_comb_class2.tif complete\n",
      "C:/DATA/todd/example/shp/grd_50m4_ID__1378_rgb_comb_class2.tif complete\n",
      "C:/DATA/todd/example/shp/grd_50m4_ID__1379_rgb_comb_class2.tif complete\n",
      "C:/DATA/todd/example/shp/grd_50m4_ID__1380_rgb_comb_class2.tif complete\n",
      "C:/DATA/todd/example/shp/grd_50m4_ID__1381_rgb_comb_class2.tif complete\n",
      "C:/DATA/todd/example/shp/grd_50m4_ID__1405_rgb_comb_class2.tif complete\n",
      "C:/DATA/todd/example/shp/grd_50m4_ID__1406_rgb_comb_class2.tif complete\n",
      "C:/DATA/todd/example/shp/grd_50m4_ID__1407_rgb_comb_class2.tif complete\n",
      "C:/DATA/todd/example/shp/grd_50m4_ID__1408_rgb_comb_class2.tif complete\n",
      "C:/DATA/todd/example/shp/grd_50m4_ID__1409_rgb_comb_class2.tif complete\n",
      "C:/DATA/todd/example/shp/grd_50m4_ID__1434_rgb_comb_class2.tif complete\n",
      "C:/DATA/todd/example/shp/grd_50m4_ID__1435_rgb_comb_class2.tif complete\n",
      "C:/DATA/todd/example/shp/grd_50m4_ID__1436_rgb_comb_class2.tif complete\n",
      "C:/DATA/todd/example/shp/grd_50m4_ID__1437_rgb_comb_class2.tif complete\n",
      "C:/DATA/todd/example/shp/grd_50m4_ID__1438_rgb_comb_class2.tif complete\n",
      "C:/DATA/todd/example/shp/grd_50m4_ID__1462_rgb_comb_class2.tif complete\n",
      "C:/DATA/todd/example/shp/grd_50m4_ID__1463_rgb_comb_class2.tif complete\n",
      "C:/DATA/todd/example/shp/grd_50m4_ID__1464_rgb_comb_class2.tif complete\n",
      "C:/DATA/todd/example/shp/grd_50m4_ID__1465_rgb_comb_class2.tif complete\n",
      "C:/DATA/todd/example/shp/grd_50m4_ID__1466_rgb_comb_class2.tif complete\n",
      "C:/DATA/todd/example/shp/grd_50m4_ID__1490_rgb_comb_class2.tif complete\n",
      "C:/DATA/todd/example/shp/grd_50m4_ID__1491_rgb_comb_class2.tif complete\n",
      "C:/DATA/todd/example/shp/grd_50m4_ID__1492_rgb_comb_class2.tif complete\n",
      "C:/DATA/todd/example/shp/grd_50m4_ID__1493_rgb_comb_class2.tif complete\n",
      "C:/DATA/todd/example/shp/grd_50m4_ID__1494_rgb_comb_class2.tif complete\n",
      "C:/DATA/todd/example/shp/grd_50m4_ID__1518_rgb_comb_class2.tif complete\n",
      "C:/DATA/todd/example/shp/grd_50m4_ID__1519_rgb_comb_class2.tif complete\n",
      "C:/DATA/todd/example/shp/grd_50m4_ID__1520_rgb_comb_class2.tif complete\n",
      "C:/DATA/todd/example/shp/grd_50m4_ID__1521_rgb_comb_class2.tif complete\n",
      "C:/DATA/todd/example/shp/grd_50m4_ID__1522_rgb_comb_class2.tif complete\n",
      "C:/DATA/todd/example/shp/grd_50m4_ID__1523_rgb_comb_class2.tif complete\n",
      "C:/DATA/todd/example/shp/grd_50m4_ID__1546_rgb_comb_class2.tif complete\n",
      "C:/DATA/todd/example/shp/grd_50m4_ID__1547_rgb_comb_class2.tif complete\n",
      "C:/DATA/todd/example/shp/grd_50m4_ID__1548_rgb_comb_class2.tif complete\n",
      "C:/DATA/todd/example/shp/grd_50m4_ID__1549_rgb_comb_class2.tif complete\n",
      "C:/DATA/todd/example/shp/grd_50m4_ID__1550_rgb_comb_class2.tif complete\n",
      "C:/DATA/todd/example/shp/grd_50m4_ID__1551_rgb_comb_class2.tif complete\n",
      "C:/DATA/todd/example/shp/grd_50m4_ID__156_rgb_comb_class2.tif complete\n",
      "C:/DATA/todd/example/shp/grd_50m4_ID__157_rgb_comb_class2.tif complete\n",
      "C:/DATA/todd/example/shp/grd_50m4_ID__1574_rgb_comb_class2.tif complete\n",
      "C:/DATA/todd/example/shp/grd_50m4_ID__1575_rgb_comb_class2.tif complete\n",
      "C:/DATA/todd/example/shp/grd_50m4_ID__1576_rgb_comb_class2.tif complete\n",
      "C:/DATA/todd/example/shp/grd_50m4_ID__1577_rgb_comb_class2.tif complete\n",
      "C:/DATA/todd/example/shp/grd_50m4_ID__1578_rgb_comb_class2.tif complete\n",
      "C:/DATA/todd/example/shp/grd_50m4_ID__1579_rgb_comb_class2.tif complete\n",
      "C:/DATA/todd/example/shp/grd_50m4_ID__158_rgb_comb_class2.tif complete\n",
      "C:/DATA/todd/example/shp/grd_50m4_ID__159_rgb_comb_class2.tif complete\n",
      "C:/DATA/todd/example/shp/grd_50m4_ID__1602_rgb_comb_class2.tif complete\n",
      "C:/DATA/todd/example/shp/grd_50m4_ID__1603_rgb_comb_class2.tif complete\n",
      "C:/DATA/todd/example/shp/grd_50m4_ID__1604_rgb_comb_class2.tif complete\n"
     ]
    },
    {
     "name": "stdout",
     "output_type": "stream",
     "text": [
      "C:/DATA/todd/example/shp/grd_50m4_ID__1605_rgb_comb_class2.tif complete\n",
      "C:/DATA/todd/example/shp/grd_50m4_ID__1606_rgb_comb_class2.tif complete\n",
      "C:/DATA/todd/example/shp/grd_50m4_ID__1607_rgb_comb_class2.tif complete\n",
      "C:/DATA/todd/example/shp/grd_50m4_ID__1630_rgb_comb_class2.tif complete\n",
      "C:/DATA/todd/example/shp/grd_50m4_ID__1631_rgb_comb_class2.tif complete\n",
      "C:/DATA/todd/example/shp/grd_50m4_ID__1632_rgb_comb_class2.tif complete\n",
      "C:/DATA/todd/example/shp/grd_50m4_ID__1633_rgb_comb_class2.tif complete\n",
      "C:/DATA/todd/example/shp/grd_50m4_ID__1634_rgb_comb_class2.tif complete\n",
      "C:/DATA/todd/example/shp/grd_50m4_ID__1635_rgb_comb_class2.tif complete\n",
      "C:/DATA/todd/example/shp/grd_50m4_ID__1636_rgb_comb_class2.tif complete\n",
      "C:/DATA/todd/example/shp/grd_50m4_ID__1658_rgb_comb_class2.tif complete\n",
      "C:/DATA/todd/example/shp/grd_50m4_ID__1659_rgb_comb_class2.tif complete\n",
      "C:/DATA/todd/example/shp/grd_50m4_ID__1660_rgb_comb_class2.tif complete\n",
      "C:/DATA/todd/example/shp/grd_50m4_ID__1661_rgb_comb_class2.tif complete\n",
      "C:/DATA/todd/example/shp/grd_50m4_ID__1662_rgb_comb_class2.tif complete\n",
      "C:/DATA/todd/example/shp/grd_50m4_ID__1663_rgb_comb_class2.tif complete\n",
      "C:/DATA/todd/example/shp/grd_50m4_ID__1664_rgb_comb_class2.tif complete\n",
      "C:/DATA/todd/example/shp/grd_50m4_ID__1686_rgb_comb_class2.tif complete\n",
      "C:/DATA/todd/example/shp/grd_50m4_ID__1687_rgb_comb_class2.tif complete\n",
      "C:/DATA/todd/example/shp/grd_50m4_ID__1688_rgb_comb_class2.tif complete\n",
      "C:/DATA/todd/example/shp/grd_50m4_ID__1689_rgb_comb_class2.tif complete\n",
      "C:/DATA/todd/example/shp/grd_50m4_ID__1690_rgb_comb_class2.tif complete\n",
      "C:/DATA/todd/example/shp/grd_50m4_ID__1691_rgb_comb_class2.tif complete\n",
      "C:/DATA/todd/example/shp/grd_50m4_ID__1692_rgb_comb_class2.tif complete\n",
      "C:/DATA/todd/example/shp/grd_50m4_ID__1715_rgb_comb_class2.tif complete\n",
      "C:/DATA/todd/example/shp/grd_50m4_ID__1716_rgb_comb_class2.tif complete\n",
      "C:/DATA/todd/example/shp/grd_50m4_ID__1717_rgb_comb_class2.tif complete\n",
      "C:/DATA/todd/example/shp/grd_50m4_ID__1718_rgb_comb_class2.tif complete\n",
      "C:/DATA/todd/example/shp/grd_50m4_ID__1719_rgb_comb_class2.tif complete\n",
      "C:/DATA/todd/example/shp/grd_50m4_ID__1720_rgb_comb_class2.tif complete\n",
      "C:/DATA/todd/example/shp/grd_50m4_ID__1743_rgb_comb_class2.tif complete\n",
      "C:/DATA/todd/example/shp/grd_50m4_ID__1744_rgb_comb_class2.tif complete\n",
      "C:/DATA/todd/example/shp/grd_50m4_ID__1745_rgb_comb_class2.tif complete\n",
      "C:/DATA/todd/example/shp/grd_50m4_ID__1746_rgb_comb_class2.tif complete\n",
      "C:/DATA/todd/example/shp/grd_50m4_ID__1747_rgb_comb_class2.tif complete\n",
      "C:/DATA/todd/example/shp/grd_50m4_ID__1748_rgb_comb_class2.tif complete\n",
      "C:/DATA/todd/example/shp/grd_50m4_ID__1749_rgb_comb_class2.tif complete\n",
      "C:/DATA/todd/example/shp/grd_50m4_ID__1771_rgb_comb_class2.tif complete\n",
      "C:/DATA/todd/example/shp/grd_50m4_ID__1772_rgb_comb_class2.tif complete\n",
      "C:/DATA/todd/example/shp/grd_50m4_ID__1773_rgb_comb_class2.tif complete\n",
      "C:/DATA/todd/example/shp/grd_50m4_ID__1774_rgb_comb_class2.tif complete\n",
      "C:/DATA/todd/example/shp/grd_50m4_ID__1775_rgb_comb_class2.tif complete\n",
      "C:/DATA/todd/example/shp/grd_50m4_ID__1776_rgb_comb_class2.tif complete\n",
      "C:/DATA/todd/example/shp/grd_50m4_ID__1777_rgb_comb_class2.tif complete\n",
      "C:/DATA/todd/example/shp/grd_50m4_ID__183_rgb_comb_class2.tif complete\n",
      "C:/DATA/todd/example/shp/grd_50m4_ID__184_rgb_comb_class2.tif complete\n",
      "C:/DATA/todd/example/shp/grd_50m4_ID__185_rgb_comb_class2.tif complete\n",
      "C:/DATA/todd/example/shp/grd_50m4_ID__186_rgb_comb_class2.tif complete\n",
      "C:/DATA/todd/example/shp/grd_50m4_ID__187_rgb_comb_class2.tif complete\n",
      "C:/DATA/todd/example/shp/grd_50m4_ID__211_rgb_comb_class2.tif complete\n",
      "C:/DATA/todd/example/shp/grd_50m4_ID__212_rgb_comb_class2.tif complete\n",
      "C:/DATA/todd/example/shp/grd_50m4_ID__213_rgb_comb_class2.tif complete\n",
      "C:/DATA/todd/example/shp/grd_50m4_ID__214_rgb_comb_class2.tif complete\n",
      "C:/DATA/todd/example/shp/grd_50m4_ID__215_rgb_comb_class2.tif complete\n",
      "C:/DATA/todd/example/shp/grd_50m4_ID__238_rgb_comb_class2.tif complete\n",
      "C:/DATA/todd/example/shp/grd_50m4_ID__239_rgb_comb_class2.tif complete\n",
      "C:/DATA/todd/example/shp/grd_50m4_ID__240_rgb_comb_class2.tif complete\n",
      "C:/DATA/todd/example/shp/grd_50m4_ID__241_rgb_comb_class2.tif complete\n",
      "C:/DATA/todd/example/shp/grd_50m4_ID__242_rgb_comb_class2.tif complete\n",
      "C:/DATA/todd/example/shp/grd_50m4_ID__243_rgb_comb_class2.tif complete\n",
      "C:/DATA/todd/example/shp/grd_50m4_ID__265_rgb_comb_class2.tif complete\n",
      "C:/DATA/todd/example/shp/grd_50m4_ID__266_rgb_comb_class2.tif complete\n",
      "C:/DATA/todd/example/shp/grd_50m4_ID__267_rgb_comb_class2.tif complete\n",
      "C:/DATA/todd/example/shp/grd_50m4_ID__268_rgb_comb_class2.tif complete\n",
      "C:/DATA/todd/example/shp/grd_50m4_ID__269_rgb_comb_class2.tif complete\n",
      "C:/DATA/todd/example/shp/grd_50m4_ID__270_rgb_comb_class2.tif complete\n",
      "C:/DATA/todd/example/shp/grd_50m4_ID__292_rgb_comb_class2.tif complete\n",
      "C:/DATA/todd/example/shp/grd_50m4_ID__293_rgb_comb_class2.tif complete\n",
      "C:/DATA/todd/example/shp/grd_50m4_ID__294_rgb_comb_class2.tif complete\n",
      "C:/DATA/todd/example/shp/grd_50m4_ID__295_rgb_comb_class2.tif complete\n",
      "C:/DATA/todd/example/shp/grd_50m4_ID__296_rgb_comb_class2.tif complete\n",
      "C:/DATA/todd/example/shp/grd_50m4_ID__297_rgb_comb_class2.tif complete\n",
      "C:/DATA/todd/example/shp/grd_50m4_ID__320_rgb_comb_class2.tif complete\n",
      "C:/DATA/todd/example/shp/grd_50m4_ID__321_rgb_comb_class2.tif complete\n",
      "C:/DATA/todd/example/shp/grd_50m4_ID__322_rgb_comb_class2.tif complete\n",
      "C:/DATA/todd/example/shp/grd_50m4_ID__323_rgb_comb_class2.tif complete\n",
      "C:/DATA/todd/example/shp/grd_50m4_ID__324_rgb_comb_class2.tif complete\n",
      "C:/DATA/todd/example/shp/grd_50m4_ID__347_rgb_comb_class2.tif complete\n",
      "C:/DATA/todd/example/shp/grd_50m4_ID__348_rgb_comb_class2.tif complete\n",
      "C:/DATA/todd/example/shp/grd_50m4_ID__349_rgb_comb_class2.tif complete\n",
      "C:/DATA/todd/example/shp/grd_50m4_ID__350_rgb_comb_class2.tif complete\n",
      "C:/DATA/todd/example/shp/grd_50m4_ID__351_rgb_comb_class2.tif complete\n",
      "C:/DATA/todd/example/shp/grd_50m4_ID__352_rgb_comb_class2.tif complete\n",
      "C:/DATA/todd/example/shp/grd_50m4_ID__375_rgb_comb_class2.tif complete\n",
      "C:/DATA/todd/example/shp/grd_50m4_ID__376_rgb_comb_class2.tif complete\n",
      "C:/DATA/todd/example/shp/grd_50m4_ID__377_rgb_comb_class2.tif complete\n",
      "C:/DATA/todd/example/shp/grd_50m4_ID__378_rgb_comb_class2.tif complete\n",
      "C:/DATA/todd/example/shp/grd_50m4_ID__379_rgb_comb_class2.tif complete\n",
      "C:/DATA/todd/example/shp/grd_50m4_ID__402_rgb_comb_class2.tif complete\n",
      "C:/DATA/todd/example/shp/grd_50m4_ID__403_rgb_comb_class2.tif complete\n",
      "C:/DATA/todd/example/shp/grd_50m4_ID__404_rgb_comb_class2.tif complete\n",
      "C:/DATA/todd/example/shp/grd_50m4_ID__405_rgb_comb_class2.tif complete\n",
      "C:/DATA/todd/example/shp/grd_50m4_ID__406_rgb_comb_class2.tif complete\n",
      "C:/DATA/todd/example/shp/grd_50m4_ID__407_rgb_comb_class2.tif complete\n",
      "C:/DATA/todd/example/shp/grd_50m4_ID__430_rgb_comb_class2.tif complete\n",
      "C:/DATA/todd/example/shp/grd_50m4_ID__431_rgb_comb_class2.tif complete\n",
      "C:/DATA/todd/example/shp/grd_50m4_ID__432_rgb_comb_class2.tif complete\n",
      "C:/DATA/todd/example/shp/grd_50m4_ID__433_rgb_comb_class2.tif complete\n",
      "C:/DATA/todd/example/shp/grd_50m4_ID__434_rgb_comb_class2.tif complete\n",
      "C:/DATA/todd/example/shp/grd_50m4_ID__457_rgb_comb_class2.tif complete\n",
      "C:/DATA/todd/example/shp/grd_50m4_ID__458_rgb_comb_class2.tif complete\n",
      "C:/DATA/todd/example/shp/grd_50m4_ID__459_rgb_comb_class2.tif complete\n",
      "C:/DATA/todd/example/shp/grd_50m4_ID__460_rgb_comb_class2.tif complete\n",
      "C:/DATA/todd/example/shp/grd_50m4_ID__461_rgb_comb_class2.tif complete\n",
      "C:/DATA/todd/example/shp/grd_50m4_ID__485_rgb_comb_class2.tif complete\n",
      "C:/DATA/todd/example/shp/grd_50m4_ID__486_rgb_comb_class2.tif complete\n",
      "C:/DATA/todd/example/shp/grd_50m4_ID__487_rgb_comb_class2.tif complete\n",
      "C:/DATA/todd/example/shp/grd_50m4_ID__488_rgb_comb_class2.tif complete\n",
      "C:/DATA/todd/example/shp/grd_50m4_ID__489_rgb_comb_class2.tif complete\n",
      "C:/DATA/todd/example/shp/grd_50m4_ID__513_rgb_comb_class2.tif complete\n",
      "C:/DATA/todd/example/shp/grd_50m4_ID__514_rgb_comb_class2.tif complete\n",
      "C:/DATA/todd/example/shp/grd_50m4_ID__515_rgb_comb_class2.tif complete\n",
      "C:/DATA/todd/example/shp/grd_50m4_ID__516_rgb_comb_class2.tif complete\n",
      "C:/DATA/todd/example/shp/grd_50m4_ID__540_rgb_comb_class2.tif complete\n",
      "C:/DATA/todd/example/shp/grd_50m4_ID__541_rgb_comb_class2.tif complete\n"
     ]
    },
    {
     "name": "stdout",
     "output_type": "stream",
     "text": [
      "C:/DATA/todd/example/shp/grd_50m4_ID__542_rgb_comb_class2.tif complete\n",
      "C:/DATA/todd/example/shp/grd_50m4_ID__543_rgb_comb_class2.tif complete\n",
      "C:/DATA/todd/example/shp/grd_50m4_ID__544_rgb_comb_class2.tif complete\n",
      "C:/DATA/todd/example/shp/grd_50m4_ID__568_rgb_comb_class2.tif complete\n",
      "C:/DATA/todd/example/shp/grd_50m4_ID__569_rgb_comb_class2.tif complete\n",
      "C:/DATA/todd/example/shp/grd_50m4_ID__570_rgb_comb_class2.tif complete\n",
      "C:/DATA/todd/example/shp/grd_50m4_ID__571_rgb_comb_class2.tif complete\n",
      "C:/DATA/todd/example/shp/grd_50m4_ID__596_rgb_comb_class2.tif complete\n",
      "C:/DATA/todd/example/shp/grd_50m4_ID__597_rgb_comb_class2.tif complete\n",
      "C:/DATA/todd/example/shp/grd_50m4_ID__598_rgb_comb_class2.tif complete\n",
      "C:/DATA/todd/example/shp/grd_50m4_ID__599_rgb_comb_class2.tif complete\n",
      "C:/DATA/todd/example/shp/grd_50m4_ID__624_rgb_comb_class2.tif complete\n",
      "C:/DATA/todd/example/shp/grd_50m4_ID__625_rgb_comb_class2.tif complete\n",
      "C:/DATA/todd/example/shp/grd_50m4_ID__626_rgb_comb_class2.tif complete\n",
      "C:/DATA/todd/example/shp/grd_50m4_ID__627_rgb_comb_class2.tif complete\n",
      "C:/DATA/todd/example/shp/grd_50m4_ID__652_rgb_comb_class2.tif complete\n",
      "C:/DATA/todd/example/shp/grd_50m4_ID__653_rgb_comb_class2.tif complete\n",
      "C:/DATA/todd/example/shp/grd_50m4_ID__654_rgb_comb_class2.tif complete\n",
      "C:/DATA/todd/example/shp/grd_50m4_ID__655_rgb_comb_class2.tif complete\n",
      "C:/DATA/todd/example/shp/grd_50m4_ID__680_rgb_comb_class2.tif complete\n",
      "C:/DATA/todd/example/shp/grd_50m4_ID__681_rgb_comb_class2.tif complete\n",
      "C:/DATA/todd/example/shp/grd_50m4_ID__682_rgb_comb_class2.tif complete\n",
      "C:/DATA/todd/example/shp/grd_50m4_ID__683_rgb_comb_class2.tif complete\n",
      "C:/DATA/todd/example/shp/grd_50m4_ID__708_rgb_comb_class2.tif complete\n",
      "C:/DATA/todd/example/shp/grd_50m4_ID__709_rgb_comb_class2.tif complete\n",
      "C:/DATA/todd/example/shp/grd_50m4_ID__710_rgb_comb_class2.tif complete\n",
      "C:/DATA/todd/example/shp/grd_50m4_ID__711_rgb_comb_class2.tif complete\n",
      "C:/DATA/todd/example/shp/grd_50m4_ID__712_rgb_comb_class2.tif complete\n",
      "C:/DATA/todd/example/shp/grd_50m4_ID__73_rgb_comb_class2.tif complete\n",
      "C:/DATA/todd/example/shp/grd_50m4_ID__736_rgb_comb_class2.tif complete\n",
      "C:/DATA/todd/example/shp/grd_50m4_ID__737_rgb_comb_class2.tif complete\n",
      "C:/DATA/todd/example/shp/grd_50m4_ID__738_rgb_comb_class2.tif complete\n",
      "C:/DATA/todd/example/shp/grd_50m4_ID__739_rgb_comb_class2.tif complete\n",
      "C:/DATA/todd/example/shp/grd_50m4_ID__74_rgb_comb_class2.tif complete\n",
      "C:/DATA/todd/example/shp/grd_50m4_ID__740_rgb_comb_class2.tif complete\n",
      "C:/DATA/todd/example/shp/grd_50m4_ID__75_rgb_comb_class2.tif complete\n",
      "C:/DATA/todd/example/shp/grd_50m4_ID__765_rgb_comb_class2.tif complete\n",
      "C:/DATA/todd/example/shp/grd_50m4_ID__766_rgb_comb_class2.tif complete\n",
      "C:/DATA/todd/example/shp/grd_50m4_ID__767_rgb_comb_class2.tif complete\n",
      "C:/DATA/todd/example/shp/grd_50m4_ID__768_rgb_comb_class2.tif complete\n",
      "C:/DATA/todd/example/shp/grd_50m4_ID__793_rgb_comb_class2.tif complete\n",
      "C:/DATA/todd/example/shp/grd_50m4_ID__794_rgb_comb_class2.tif complete\n",
      "C:/DATA/todd/example/shp/grd_50m4_ID__795_rgb_comb_class2.tif complete\n",
      "C:/DATA/todd/example/shp/grd_50m4_ID__796_rgb_comb_class2.tif complete\n",
      "C:/DATA/todd/example/shp/grd_50m4_ID__821_rgb_comb_class2.tif complete\n",
      "C:/DATA/todd/example/shp/grd_50m4_ID__822_rgb_comb_class2.tif complete\n",
      "C:/DATA/todd/example/shp/grd_50m4_ID__823_rgb_comb_class2.tif complete\n",
      "C:/DATA/todd/example/shp/grd_50m4_ID__824_rgb_comb_class2.tif complete\n",
      "C:/DATA/todd/example/shp/grd_50m4_ID__825_rgb_comb_class2.tif complete\n",
      "C:/DATA/todd/example/shp/grd_50m4_ID__849_rgb_comb_class2.tif complete\n",
      "C:/DATA/todd/example/shp/grd_50m4_ID__850_rgb_comb_class2.tif complete\n",
      "C:/DATA/todd/example/shp/grd_50m4_ID__851_rgb_comb_class2.tif complete\n",
      "C:/DATA/todd/example/shp/grd_50m4_ID__852_rgb_comb_class2.tif complete\n",
      "C:/DATA/todd/example/shp/grd_50m4_ID__853_rgb_comb_class2.tif complete\n",
      "C:/DATA/todd/example/shp/grd_50m4_ID__877_rgb_comb_class2.tif complete\n",
      "C:/DATA/todd/example/shp/grd_50m4_ID__878_rgb_comb_class2.tif complete\n",
      "C:/DATA/todd/example/shp/grd_50m4_ID__879_rgb_comb_class2.tif complete\n",
      "C:/DATA/todd/example/shp/grd_50m4_ID__880_rgb_comb_class2.tif complete\n",
      "C:/DATA/todd/example/shp/grd_50m4_ID__881_rgb_comb_class2.tif complete\n",
      "C:/DATA/todd/example/shp/grd_50m4_ID__905_rgb_comb_class2.tif complete\n",
      "C:/DATA/todd/example/shp/grd_50m4_ID__906_rgb_comb_class2.tif complete\n",
      "C:/DATA/todd/example/shp/grd_50m4_ID__907_rgb_comb_class2.tif complete\n",
      "C:/DATA/todd/example/shp/grd_50m4_ID__908_rgb_comb_class2.tif complete\n",
      "C:/DATA/todd/example/shp/grd_50m4_ID__909_rgb_comb_class2.tif complete\n",
      "C:/DATA/todd/example/shp/grd_50m4_ID__933_rgb_comb_class2.tif complete\n",
      "C:/DATA/todd/example/shp/grd_50m4_ID__934_rgb_comb_class2.tif complete\n",
      "C:/DATA/todd/example/shp/grd_50m4_ID__935_rgb_comb_class2.tif complete\n",
      "C:/DATA/todd/example/shp/grd_50m4_ID__936_rgb_comb_class2.tif complete\n",
      "C:/DATA/todd/example/shp/grd_50m4_ID__937_rgb_comb_class2.tif complete\n",
      "C:/DATA/todd/example/shp/grd_50m4_ID__961_rgb_comb_class2.tif complete\n",
      "C:/DATA/todd/example/shp/grd_50m4_ID__962_rgb_comb_class2.tif complete\n",
      "C:/DATA/todd/example/shp/grd_50m4_ID__963_rgb_comb_class2.tif complete\n",
      "C:/DATA/todd/example/shp/grd_50m4_ID__964_rgb_comb_class2.tif complete\n",
      "C:/DATA/todd/example/shp/grd_50m4_ID__988_rgb_comb_class2.tif complete\n",
      "C:/DATA/todd/example/shp/grd_50m4_ID__989_rgb_comb_class2.tif complete\n",
      "C:/DATA/todd/example/shp/grd_50m4_ID__990_rgb_comb_class2.tif complete\n",
      "C:/DATA/todd/example/shp/grd_50m4_ID__991_rgb_comb_class2.tif complete\n",
      "C:/DATA/todd/example/shp/grd_50m4_ID__992_rgb_comb_class2.tif complete\n"
     ]
    }
   ],
   "source": [
    "%run apply_rgb_comb_classifier_multi.py -s C:/DATA/todd/example/shp/img_list.csv   \\\n",
    "    -d C:/DATA/todd/example/shp/ \\\n",
    "        -c C:/DATA/todd/example/shp/asp_results_test.csv"
   ]
  },
  {
   "cell_type": "code",
   "execution_count": null,
   "metadata": {},
   "outputs": [],
   "source": [
    "#  "
   ]
  },
  {
   "cell_type": "code",
   "execution_count": 13,
   "metadata": {},
   "outputs": [
    {
     "name": "stdout",
     "output_type": "stream",
     "text": [
      "usage: rgb_digital_aerial_photo_classifier.py [-h] [--reffile REFFILE]\n",
      "                                              [--outfile OUTFILE]\n",
      "                                              [--picklefile PICKLEFILE]\n",
      "\n",
      "optional arguments:\n",
      "  -h, --help            show this help message and exit\n",
      "  --reffile REFFILE     Input 8bit digital arial photography\n",
      "  --outfile OUTFILE     Name of output classified image\n",
      "  --picklefile PICKLEFILE\n",
      "                        Input pickle file (default is rfc_cpickle_20200615.p)\n"
     ]
    }
   ],
   "source": [
    "%run rgb_digital_aerial_photo_classifier.py -h"
   ]
  },
  {
   "cell_type": "code",
   "execution_count": null,
   "metadata": {},
   "outputs": [],
   "source": []
  },
  {
   "cell_type": "code",
   "execution_count": null,
   "metadata": {},
   "outputs": [],
   "source": []
  },
  {
   "cell_type": "code",
   "execution_count": null,
   "metadata": {},
   "outputs": [],
   "source": []
  },
  {
   "cell_type": "code",
   "execution_count": 14,
   "metadata": {},
   "outputs": [],
   "source": [
    "%run rgb_digital_aerial_photo_classifier.py --reffile C:/DATA/todd/example/shp/grd_50m4_ID__100.tif --outfile C:/DATA/todd/example/shp/grd_50m4_ID__100_class.tif"
   ]
  },
  {
   "cell_type": "code",
   "execution_count": null,
   "metadata": {},
   "outputs": [],
   "source": []
  }
 ],
 "metadata": {
  "kernelspec": {
   "display_name": "Python 3",
   "language": "python",
   "name": "python3"
  },
  "language_info": {
   "codemirror_mode": {
    "name": "ipython",
    "version": 3
   },
   "file_extension": ".py",
   "mimetype": "text/x-python",
   "name": "python",
   "nbconvert_exporter": "python",
   "pygments_lexer": "ipython3",
   "version": "3.7.4"
  }
 },
 "nbformat": 4,
 "nbformat_minor": 2
}
