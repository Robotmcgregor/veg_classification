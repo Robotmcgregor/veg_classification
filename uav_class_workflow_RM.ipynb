{
 "cells": [
  {
   "cell_type": "code",
   "execution_count": null,
   "metadata": {},
   "outputs": [],
   "source": [
    "# produce the list of the individual shapefiles for each of the regions along the project area "
   ]
  },
  {
   "cell_type": "code",
   "execution_count": 1,
   "metadata": {},
   "outputs": [],
   "source": [
    "%run C:\\Users\\rmcgr\\Rangeland_monitoring\\veg_classification\\data_processing\\list_of_files_in_dir.py --direc C:\\Users\\rmcgr\\Desktop\\drone_class_copy\\classify_J13_80_no_gcp_rgb \\\n",
    "    --exten .shp --txtfile C:\\Users\\rmcgr\\Desktop\\drone_class_copy\\classify_J13_80_no_gcp_rgb\\shp_list.csv"
   ]
  },
  {
   "cell_type": "code",
   "execution_count": 2,
   "metadata": {},
   "outputs": [],
   "source": [
    "# the next block of code produces the list needed to input into the multi clip script which produces the image chips \n",
    "# from the aerial photogrpahy. "
   ]
  },
  {
   "cell_type": "code",
   "execution_count": 3,
   "metadata": {},
   "outputs": [
    {
     "name": "stdout",
     "output_type": "stream",
     "text": [
      "C:/Users/rmcgr/Desktop/drone_class_copy/classify_J13_80_no_gcp_rgb/shp_list.csv\n",
      "            0\n",
      "0  j13_01.shp\n",
      "1  j13_02.shp\n",
      "C:/Users/rmcgr/Desktop/drone_class_copy/classify_J13_80_no_gcp_rgb/clip_list.csv\n"
     ]
    }
   ],
   "source": [
    "import pandas as pd\n",
    "\n",
    "\"\"\"\n",
    "read in the list of shapefiles and clean up the list to input \n",
    "into the multi clip script\n",
    "\"\"\"\n",
    "\n",
    "# provide the path to the folder with the list of shapfiles\n",
    "path = r\"C:/Users/rmcgr/Desktop/drone_class_copy/classify_J13_80_no_gcp_rgb/\"\n",
    "\n",
    "# provide the path and name of the raster imagery being clipped.\n",
    "img = r\"C:/Users/rmcgr/Desktop/drone_class_copy/classify_J13_80_no_gcp_rgb/jenkins13_rtk_hover_80_no_gcp_mosaic_group1.tif\"\n",
    "\n",
    "data = os.path.join(path, \"shp_list.csv\")\n",
    "print(data)\n",
    "clip_list = pd.read_csv(data, header=None)\n",
    "print(clip_list)\n",
    "clip_list['img'] = img\n",
    "clip_list.columns=['shp','img']\n",
    "clip_list.head(3)\n",
    "clip_list_final = clip_list[['img','shp']]\n",
    "path = data[:-12]\n",
    "\n",
    "print (path + 'clip_list.csv')\n",
    "clip_list_final.to_csv(path + 'clip_list.csv')"
   ]
  },
  {
   "cell_type": "code",
   "execution_count": 4,
   "metadata": {},
   "outputs": [],
   "source": [
    "# cd to the directory containing all of the individual shapefiles"
   ]
  },
  {
   "cell_type": "code",
   "execution_count": 5,
   "metadata": {},
   "outputs": [
    {
     "name": "stdout",
     "output_type": "stream",
     "text": [
      "C:\\Users\\rmcgr\\Desktop\\drone_class_copy\\classify_J13_80_no_gcp_rgb\n"
     ]
    }
   ],
   "source": [
    "cd C:\\Users\\rmcgr\\Desktop\\drone_class_copy\\classify_J13_80_no_gcp_rgb"
   ]
  },
  {
   "cell_type": "code",
   "execution_count": 6,
   "metadata": {},
   "outputs": [],
   "source": [
    "# run the script which clips out all of the image chips \n",
    "# this script renames each individual image chip using the unique id in the shapefile name"
   ]
  },
  {
   "cell_type": "code",
   "execution_count": 7,
   "metadata": {},
   "outputs": [
    {
     "name": "stdout",
     "output_type": "stream",
     "text": [
      "32752\n",
      "32752\n"
     ]
    }
   ],
   "source": [
    "%run C:/Users/rmcgr/Rangeland_monitoring/veg_classification/data_processing/multi_clip_tool_rasterio.py -i C:/Users/rmcgr/Desktop/drone_class_copy/classify_J13_80_no_gcp_rgb/clip_list.csv"
   ]
  },
  {
   "cell_type": "code",
   "execution_count": 8,
   "metadata": {},
   "outputs": [],
   "source": [
    "# create a list of image chips to be classifed "
   ]
  },
  {
   "cell_type": "code",
   "execution_count": 9,
   "metadata": {},
   "outputs": [],
   "source": [
    "%run C:\\Users\\rmcgr\\Rangeland_monitoring\\veg_classification\\data_processing\\list_of_files_in_dir.py --direc C:\\Users\\rmcgr\\Desktop\\drone_class_copy\\classify_J13_80_no_gcp_rgb \\\n",
    "    --exten .tif --txtfile C:\\Users\\rmcgr\\Desktop\\drone_class_copy\\classify_J13_80_no_gcp_rgb\\img_list.csv"
   ]
  },
  {
   "cell_type": "code",
   "execution_count": 10,
   "metadata": {},
   "outputs": [],
   "source": [
    "# cd to the directory containing the classifier "
   ]
  },
  {
   "cell_type": "code",
   "execution_count": 11,
   "metadata": {},
   "outputs": [
    {
     "name": "stdout",
     "output_type": "stream",
     "text": [
      "C:\\Users\\rmcgr\\Rangeland_monitoring\\veg_classification\\aerial_photo_class\n"
     ]
    }
   ],
   "source": [
    "cd C:\\Users\\rmcgr\\Rangeland_monitoring\\veg_classification\\aerial_photo_class"
   ]
  },
  {
   "cell_type": "code",
   "execution_count": 12,
   "metadata": {},
   "outputs": [],
   "source": [
    "# run the help function on the script which applies the rgb aerial photograph classifier to each of the image chips\n",
    "# this script calls a script which applies the classifer to individual imagery. "
   ]
  },
  {
   "cell_type": "code",
   "execution_count": 13,
   "metadata": {},
   "outputs": [
    {
     "name": "stdout",
     "output_type": "stream",
     "text": [
      "usage: apply_rgb_comb_classifier_multi.py [-h] [-s IMGLIST] [-d DIREC]\n",
      "                                          [-c CSV]\n",
      "\n",
      "optional arguments:\n",
      "  -h, --help            show this help message and exit\n",
      "  -s IMGLIST, --imglist IMGLIST\n",
      "                        provide the path and name of the csv file with the\n",
      "                        list of imagery to process\n",
      "  -d DIREC, --direc DIREC\n",
      "                        path to the directory containing the imagery\n",
      "  -c CSV, --csv CSV     provide the path to the directory and name of the csv\n",
      "                        file containing the results\n"
     ]
    }
   ],
   "source": [
    "%run apply_rgb_comb_classifier_multi.py -h"
   ]
  },
  {
   "cell_type": "code",
   "execution_count": 14,
   "metadata": {},
   "outputs": [],
   "source": [
    "# input the command line arguments requried to run the script\n",
    "# this script outputs the classified image chip and also extracts out the FPC value \n",
    "# the FPC values for each image chip are saved out to a csv file "
   ]
  },
  {
   "cell_type": "code",
   "execution_count": 39,
   "metadata": {},
   "outputs": [
    {
     "name": "stdout",
     "output_type": "stream",
     "text": [
      "                                                 0\n",
      "0                                       j13_01.tif\n",
      "1                                       j13_02.tif\n",
      "2  jenkins13_rtk_hover_80_no_gcp_mosaic_group1.tif\n",
      "C:\\Users\\rmcgr\\Desktop\\drone_class_copy\\classify_J13_80_no_gcp_rgbj13_01.tif\n",
      "up to here\n",
      "C:\\Users\\rmcgr\\Desktop\\drone_class_copy\\classify_J13_80_no_gcp_rgb\\j13_01_rgb_comb_class2.tif complete\n"
     ]
    },
    {
     "ename": "RasterioIOError",
     "evalue": "C:\\Users\\rmcgr\\Desktop\\drone_class_copy\\classify_J13_80_no_gcp_rgb\\j13_01_rgb_comb_class2.tif: No such file or directory",
     "output_type": "error",
     "traceback": [
      "\u001b[1;31m---------------------------------------------------------------------------\u001b[0m",
      "\u001b[1;31mCPLE_OpenFailedError\u001b[0m                      Traceback (most recent call last)",
      "\u001b[1;32mrasterio\\_base.pyx\u001b[0m in \u001b[0;36mrasterio._base.DatasetBase.__init__\u001b[1;34m()\u001b[0m\n",
      "\u001b[1;32mrasterio\\_shim.pyx\u001b[0m in \u001b[0;36mrasterio._shim.open_dataset\u001b[1;34m()\u001b[0m\n",
      "\u001b[1;32mrasterio\\_err.pyx\u001b[0m in \u001b[0;36mrasterio._err.exc_wrap_pointer\u001b[1;34m()\u001b[0m\n",
      "\u001b[1;31mCPLE_OpenFailedError\u001b[0m: C:\\Users\\rmcgr\\Desktop\\drone_class_copy\\classify_J13_80_no_gcp_rgb\\j13_01_rgb_comb_class2.tif: No such file or directory",
      "\nDuring handling of the above exception, another exception occurred:\n",
      "\u001b[1;31mRasterioIOError\u001b[0m                           Traceback (most recent call last)",
      "\u001b[1;32m<ipython-input-39-8ff3306cd588>\u001b[0m in \u001b[0;36m<module>\u001b[1;34m()\u001b[0m\n\u001b[0;32m    105\u001b[0m \u001b[0mimglist\u001b[0m \u001b[1;33m=\u001b[0m \u001b[1;34mr\"C:\\Users\\rmcgr\\Desktop\\drone_class_copy\\classify_J13_80_no_gcp_rgb\\img_list.csv\"\u001b[0m\u001b[1;33m\u001b[0m\u001b[1;33m\u001b[0m\u001b[0m\n\u001b[0;32m    106\u001b[0m \u001b[1;33m\u001b[0m\u001b[0m\n\u001b[1;32m--> 107\u001b[1;33m \u001b[0msite_list\u001b[0m\u001b[1;33m,\u001b[0m \u001b[0mfpc_value_list\u001b[0m \u001b[1;33m=\u001b[0m \u001b[0mapplyModel\u001b[0m\u001b[1;33m(\u001b[0m\u001b[0mimglist\u001b[0m\u001b[1;33m,\u001b[0m\u001b[0mdirectory\u001b[0m\u001b[1;33m)\u001b[0m\u001b[1;33m\u001b[0m\u001b[1;33m\u001b[0m\u001b[0m\n\u001b[0m\u001b[0;32m    108\u001b[0m \u001b[1;33m\u001b[0m\u001b[0m\n\u001b[0;32m    109\u001b[0m \u001b[1;31m# save out the results to a csv file\u001b[0m\u001b[1;33m\u001b[0m\u001b[1;33m\u001b[0m\u001b[1;33m\u001b[0m\u001b[0m\n",
      "\u001b[1;32m<ipython-input-39-8ff3306cd588>\u001b[0m in \u001b[0;36mapplyModel\u001b[1;34m(imglist, directory)\u001b[0m\n\u001b[0;32m     79\u001b[0m         \u001b[1;31m# read in the classified image and calculate the estimated fpc\u001b[0m\u001b[1;33m\u001b[0m\u001b[1;33m\u001b[0m\u001b[1;33m\u001b[0m\u001b[0m\n\u001b[0;32m     80\u001b[0m         \u001b[1;31m# read in with rasterio\u001b[0m\u001b[1;33m\u001b[0m\u001b[1;33m\u001b[0m\u001b[1;33m\u001b[0m\u001b[0m\n\u001b[1;32m---> 81\u001b[1;33m         \u001b[0mdataset\u001b[0m \u001b[1;33m=\u001b[0m \u001b[0mrasterio\u001b[0m\u001b[1;33m.\u001b[0m\u001b[0mopen\u001b[0m\u001b[1;33m(\u001b[0m\u001b[0moutfile\u001b[0m\u001b[1;33m)\u001b[0m\u001b[1;33m\u001b[0m\u001b[1;33m\u001b[0m\u001b[0m\n\u001b[0m\u001b[0;32m     82\u001b[0m         \u001b[1;31m# read in the first band as numpy array\u001b[0m\u001b[1;33m\u001b[0m\u001b[1;33m\u001b[0m\u001b[1;33m\u001b[0m\u001b[0m\n\u001b[0;32m     83\u001b[0m         \u001b[0mband1\u001b[0m \u001b[1;33m=\u001b[0m \u001b[0mdataset\u001b[0m\u001b[1;33m.\u001b[0m\u001b[0mread\u001b[0m\u001b[1;33m(\u001b[0m\u001b[1;36m1\u001b[0m\u001b[1;33m)\u001b[0m\u001b[1;33m\u001b[0m\u001b[1;33m\u001b[0m\u001b[0m\n",
      "\u001b[1;32mC:\\Users\\rmcgr\\.conda\\envs\\zonal\\lib\\site-packages\\rasterio\\env.py\u001b[0m in \u001b[0;36mwrapper\u001b[1;34m(*args, **kwds)\u001b[0m\n\u001b[0;32m    443\u001b[0m \u001b[1;33m\u001b[0m\u001b[0m\n\u001b[0;32m    444\u001b[0m         \u001b[1;32mwith\u001b[0m \u001b[0menv_ctor\u001b[0m\u001b[1;33m(\u001b[0m\u001b[0msession\u001b[0m\u001b[1;33m=\u001b[0m\u001b[0msession\u001b[0m\u001b[1;33m)\u001b[0m\u001b[1;33m:\u001b[0m\u001b[1;33m\u001b[0m\u001b[1;33m\u001b[0m\u001b[0m\n\u001b[1;32m--> 445\u001b[1;33m             \u001b[1;32mreturn\u001b[0m \u001b[0mf\u001b[0m\u001b[1;33m(\u001b[0m\u001b[1;33m*\u001b[0m\u001b[0margs\u001b[0m\u001b[1;33m,\u001b[0m \u001b[1;33m**\u001b[0m\u001b[0mkwds\u001b[0m\u001b[1;33m)\u001b[0m\u001b[1;33m\u001b[0m\u001b[1;33m\u001b[0m\u001b[0m\n\u001b[0m\u001b[0;32m    446\u001b[0m \u001b[1;33m\u001b[0m\u001b[0m\n\u001b[0;32m    447\u001b[0m     \u001b[1;32mreturn\u001b[0m \u001b[0mwrapper\u001b[0m\u001b[1;33m\u001b[0m\u001b[1;33m\u001b[0m\u001b[0m\n",
      "\u001b[1;32mC:\\Users\\rmcgr\\.conda\\envs\\zonal\\lib\\site-packages\\rasterio\\__init__.py\u001b[0m in \u001b[0;36mopen\u001b[1;34m(fp, mode, driver, width, height, count, crs, transform, dtype, nodata, sharing, **kwargs)\u001b[0m\n\u001b[0;32m    217\u001b[0m         \u001b[1;31m# None.\u001b[0m\u001b[1;33m\u001b[0m\u001b[1;33m\u001b[0m\u001b[1;33m\u001b[0m\u001b[0m\n\u001b[0;32m    218\u001b[0m         \u001b[1;32mif\u001b[0m \u001b[0mmode\u001b[0m \u001b[1;33m==\u001b[0m \u001b[1;34m'r'\u001b[0m\u001b[1;33m:\u001b[0m\u001b[1;33m\u001b[0m\u001b[1;33m\u001b[0m\u001b[0m\n\u001b[1;32m--> 219\u001b[1;33m             \u001b[0ms\u001b[0m \u001b[1;33m=\u001b[0m \u001b[0mDatasetReader\u001b[0m\u001b[1;33m(\u001b[0m\u001b[0mpath\u001b[0m\u001b[1;33m,\u001b[0m \u001b[0mdriver\u001b[0m\u001b[1;33m=\u001b[0m\u001b[0mdriver\u001b[0m\u001b[1;33m,\u001b[0m \u001b[0msharing\u001b[0m\u001b[1;33m=\u001b[0m\u001b[0msharing\u001b[0m\u001b[1;33m,\u001b[0m \u001b[1;33m**\u001b[0m\u001b[0mkwargs\u001b[0m\u001b[1;33m)\u001b[0m\u001b[1;33m\u001b[0m\u001b[1;33m\u001b[0m\u001b[0m\n\u001b[0m\u001b[0;32m    220\u001b[0m         \u001b[1;32melif\u001b[0m \u001b[0mmode\u001b[0m \u001b[1;33m==\u001b[0m \u001b[1;34m'r+'\u001b[0m\u001b[1;33m:\u001b[0m\u001b[1;33m\u001b[0m\u001b[1;33m\u001b[0m\u001b[0m\n\u001b[0;32m    221\u001b[0m             \u001b[0ms\u001b[0m \u001b[1;33m=\u001b[0m \u001b[0mget_writer_for_path\u001b[0m\u001b[1;33m(\u001b[0m\u001b[0mpath\u001b[0m\u001b[1;33m)\u001b[0m\u001b[1;33m(\u001b[0m\u001b[0mpath\u001b[0m\u001b[1;33m,\u001b[0m \u001b[0mmode\u001b[0m\u001b[1;33m,\u001b[0m \u001b[0mdriver\u001b[0m\u001b[1;33m=\u001b[0m\u001b[0mdriver\u001b[0m\u001b[1;33m,\u001b[0m \u001b[0msharing\u001b[0m\u001b[1;33m=\u001b[0m\u001b[0msharing\u001b[0m\u001b[1;33m,\u001b[0m \u001b[1;33m**\u001b[0m\u001b[0mkwargs\u001b[0m\u001b[1;33m)\u001b[0m\u001b[1;33m\u001b[0m\u001b[1;33m\u001b[0m\u001b[0m\n",
      "\u001b[1;32mrasterio\\_base.pyx\u001b[0m in \u001b[0;36mrasterio._base.DatasetBase.__init__\u001b[1;34m()\u001b[0m\n",
      "\u001b[1;31mRasterioIOError\u001b[0m: C:\\Users\\rmcgr\\Desktop\\drone_class_copy\\classify_J13_80_no_gcp_rgb\\j13_01_rgb_comb_class2.tif: No such file or directory"
     ]
    }
   ],
   "source": [
    "from __future__ import print_function, division\n",
    "\n",
    "# import the requried modules\n",
    "import sys\n",
    "import os\n",
    "import argparse\n",
    "import pdb\n",
    "import pandas as pd\n",
    "import csv\n",
    "import subprocess\n",
    "import rasterio\n",
    "import numpy as np\n",
    "\n",
    "\n",
    "# command arguments \n",
    "def getCmdargs():\n",
    "\n",
    "    p = argparse.ArgumentParser()\n",
    "\n",
    "    p.add_argument(\"-s\",\"--imglist\", help=\"provide the path and name of the csv file with the list of imagery to process\")\n",
    "    \n",
    "    p.add_argument(\"-d\",\"--direc\", help=\"path to the directory containing the imagery\")\n",
    "    \n",
    "    p.add_argument(\"-c\",\"--csv\", help=\"provide the path to the directory and name of the csv file containing the results\")\n",
    "    \n",
    "    cmdargs = p.parse_args()\n",
    "    \n",
    "    # if there is no image list the script will terminate\n",
    "    if cmdargs.imglist is None:\n",
    "\n",
    "        p.print_help()\n",
    "\n",
    "        sys.exit()\n",
    "\n",
    "    return cmdargs\n",
    "\n",
    "\n",
    "def applyModel(imglist,directory):\n",
    "    \n",
    "    \"\"\"\n",
    "    produce the classified image from a image chip representing a site \n",
    "    and extract out the total fpc value for the plot. \n",
    "    Save the image chip and save out the fpc results as a csv file\n",
    "    \"\"\"\n",
    "    \n",
    "    site_list = []\n",
    "    fpc_value_list = []\n",
    "    \n",
    "    \n",
    "    # open the list of imagery and read it into memory\n",
    "    df = pd.read_csv(imglist,header=None)\n",
    "    print(df)\n",
    "    for index, row in df.iterrows():\n",
    "        rgb_image = os.path.join(directory + (str(row[0])))\n",
    "        print(rgb_image)\n",
    "        \n",
    "        fileN = (str(row[0]))\n",
    "        \n",
    "        outfile = os.path.join(directory, \"{0}_{1}\".format(fileN[:-4], 'rgb_comb_class2.tif'))\n",
    "        \n",
    "        #print (fileN)\n",
    "        #print (outfile)         \n",
    " \n",
    "        # call and run the vegetation index scripts\n",
    "        # to get this to work on windows the code being called by os.system needs to be stored \n",
    "        # and run from the same directory. \n",
    "    \n",
    "#         import rgb_digital_aerial_photo_classifier\n",
    "#         rgb_digital_aerial_photo_classifier.maun_routine(rgb_image,outfile)\n",
    "        \n",
    "        print('up to here')\n",
    "        #import rgb_digital_aerial_photo_classifier2\n",
    "        #rgb_digital_aerial_photo_classifier2.main_routine(rgb_image,outfile)\n",
    "        cmd = \"python rgb_digital_aerial_photo_classifier.py --reffile %s --outfile %s\"% (rgb_image,outfile) \n",
    "        subprocess.call(cmd, shell=True)    \n",
    "        os.system(cmd)\n",
    "        print (outfile + ' complete')\n",
    "        \n",
    "        # read in the classified image and calculate the estimated fpc\n",
    "        # read in with rasterio\n",
    "        dataset = rasterio.open(outfile)\n",
    "        # read in the first band as numpy array\n",
    "        band1 = dataset.read(1)\n",
    "        \n",
    "        # get the shape of the image chip which to calculate the percentage fpc\n",
    "        numPixels = (band1.shape[0] * band1.shape[1])\n",
    "        \n",
    "        # get the number of pixels classifed as green mangroves and calculate the % FPC for the site \n",
    "        greenM = band1[band1 == 1]\n",
    "        greenMc = (greenM.shape[0]) \n",
    "        fpc = (greenMc / numPixels)*100\n",
    "        \n",
    "        site_list.append(fileN)\n",
    "        \n",
    "        fpc_value_list.append(fpc)\n",
    "        \n",
    "    return (site_list, fpc_value_list)   \n",
    "           \n",
    "# calls in the command arguments and applyModel function.        \n",
    "\n",
    "    \n",
    "#cmdargs = getCmdargs()\n",
    "directory = r\"C:\\Users\\rmcgr\\Desktop\\drone_class_copy\\classify_J13_80_no_gcp_rgb\"\n",
    "csvfile = r\"C:\\Users\\rmcgr\\Desktop\\drone_class_copy\\classify_J13_80_no_gcp_rgb\\classify_J13_80_no_gcp_rgb_results.csv\"\n",
    "imglist = r\"C:\\Users\\rmcgr\\Desktop\\drone_class_copy\\classify_J13_80_no_gcp_rgb\\img_list.csv\"\n",
    "\n",
    "site_list, fpc_value_list = applyModel(imglist,directory)\n",
    "\n",
    "# save out the results to a csv file\n",
    "data = list(zip(site_list, fpc_value_list))\n",
    "\n",
    "results = pd.DataFrame(data,columns=['site','fpc'])\n",
    "\n",
    "results.to_csv(csvfile)"
   ]
  },
  {
   "cell_type": "code",
   "execution_count": null,
   "metadata": {},
   "outputs": [],
   "source": []
  },
  {
   "cell_type": "code",
   "execution_count": null,
   "metadata": {},
   "outputs": [],
   "source": []
  },
  {
   "cell_type": "code",
   "execution_count": 15,
   "metadata": {},
   "outputs": [
    {
     "name": "stdout",
     "output_type": "stream",
     "text": [
      "C:/Users/rmcgr/Desktop/drone_class_copy/classify_J13_80_no_gcp_rgb/j13_01_rgb_comb_class2.tif complete\n"
     ]
    },
    {
     "ename": "RasterioIOError",
     "evalue": "C:/Users/rmcgr/Desktop/drone_class_copy/classify_J13_80_no_gcp_rgb/j13_01_rgb_comb_class2.tif: No such file or directory",
     "output_type": "error",
     "traceback": [
      "\u001b[1;31m---------------------------------------------------------------------------\u001b[0m",
      "\u001b[1;31mCPLE_OpenFailedError\u001b[0m                      Traceback (most recent call last)",
      "\u001b[1;32mrasterio\\_base.pyx\u001b[0m in \u001b[0;36mrasterio._base.DatasetBase.__init__\u001b[1;34m()\u001b[0m\n",
      "\u001b[1;32mrasterio\\_shim.pyx\u001b[0m in \u001b[0;36mrasterio._shim.open_dataset\u001b[1;34m()\u001b[0m\n",
      "\u001b[1;32mrasterio\\_err.pyx\u001b[0m in \u001b[0;36mrasterio._err.exc_wrap_pointer\u001b[1;34m()\u001b[0m\n",
      "\u001b[1;31mCPLE_OpenFailedError\u001b[0m: C:/Users/rmcgr/Desktop/drone_class_copy/classify_J13_80_no_gcp_rgb/j13_01_rgb_comb_class2.tif: No such file or directory",
      "\nDuring handling of the above exception, another exception occurred:\n",
      "\u001b[1;31mRasterioIOError\u001b[0m                           Traceback (most recent call last)",
      "\u001b[1;32mC:\\Users\\rmcgr\\Rangeland_monitoring\\veg_classification\\aerial_photo_class\\apply_rgb_comb_classifier_multi.py\u001b[0m in \u001b[0;36m<module>\u001b[1;34m()\u001b[0m\n\u001b[0;32m    165\u001b[0m \u001b[1;33m\u001b[0m\u001b[0m\n\u001b[0;32m    166\u001b[0m \u001b[1;32mif\u001b[0m \u001b[0m__name__\u001b[0m \u001b[1;33m==\u001b[0m \u001b[1;34m\"__main__\"\u001b[0m\u001b[1;33m:\u001b[0m\u001b[1;33m\u001b[0m\u001b[1;33m\u001b[0m\u001b[0m\n\u001b[1;32m--> 167\u001b[1;33m     \u001b[0mmainRoutine\u001b[0m\u001b[1;33m(\u001b[0m\u001b[1;33m)\u001b[0m\u001b[1;33m\u001b[0m\u001b[1;33m\u001b[0m\u001b[0m\n\u001b[0m",
      "\u001b[1;32mC:\\Users\\rmcgr\\Rangeland_monitoring\\veg_classification\\aerial_photo_class\\apply_rgb_comb_classifier_multi.py\u001b[0m in \u001b[0;36mmainRoutine\u001b[1;34m()\u001b[0m\n\u001b[0;32m    154\u001b[0m     \u001b[0mcsvfile\u001b[0m \u001b[1;33m=\u001b[0m \u001b[0mstr\u001b[0m\u001b[1;33m(\u001b[0m\u001b[0mcmdargs\u001b[0m\u001b[1;33m.\u001b[0m\u001b[0mcsv\u001b[0m\u001b[1;33m)\u001b[0m\u001b[1;33m\u001b[0m\u001b[1;33m\u001b[0m\u001b[0m\n\u001b[0;32m    155\u001b[0m \u001b[1;33m\u001b[0m\u001b[0m\n\u001b[1;32m--> 156\u001b[1;33m     \u001b[0msite_list\u001b[0m\u001b[1;33m,\u001b[0m \u001b[0mfpc_value_list\u001b[0m \u001b[1;33m=\u001b[0m \u001b[0mapplyModel\u001b[0m\u001b[1;33m(\u001b[0m\u001b[0mcmdargs\u001b[0m\u001b[1;33m.\u001b[0m\u001b[0mimglist\u001b[0m\u001b[1;33m,\u001b[0m\u001b[0mdirectory\u001b[0m\u001b[1;33m)\u001b[0m\u001b[1;33m\u001b[0m\u001b[1;33m\u001b[0m\u001b[0m\n\u001b[0m\u001b[0;32m    157\u001b[0m \u001b[1;33m\u001b[0m\u001b[0m\n\u001b[0;32m    158\u001b[0m     \u001b[1;31m# save out the results to a csv file\u001b[0m\u001b[1;33m\u001b[0m\u001b[1;33m\u001b[0m\u001b[1;33m\u001b[0m\u001b[0m\n",
      "\u001b[1;32mC:\\Users\\rmcgr\\Rangeland_monitoring\\veg_classification\\aerial_photo_class\\apply_rgb_comb_classifier_multi.py\u001b[0m in \u001b[0;36mapplyModel\u001b[1;34m(imglist, directory)\u001b[0m\n\u001b[0;32m    129\u001b[0m         \u001b[1;31m# read in the classified image and calculate the estimated fpc\u001b[0m\u001b[1;33m\u001b[0m\u001b[1;33m\u001b[0m\u001b[1;33m\u001b[0m\u001b[0m\n\u001b[0;32m    130\u001b[0m         \u001b[1;31m# read in with rasterio\u001b[0m\u001b[1;33m\u001b[0m\u001b[1;33m\u001b[0m\u001b[1;33m\u001b[0m\u001b[0m\n\u001b[1;32m--> 131\u001b[1;33m         \u001b[0mdataset\u001b[0m \u001b[1;33m=\u001b[0m \u001b[0mrasterio\u001b[0m\u001b[1;33m.\u001b[0m\u001b[0mopen\u001b[0m\u001b[1;33m(\u001b[0m\u001b[0moutfile\u001b[0m\u001b[1;33m)\u001b[0m\u001b[1;33m\u001b[0m\u001b[1;33m\u001b[0m\u001b[0m\n\u001b[0m\u001b[0;32m    132\u001b[0m         \u001b[1;31m# read in the first band as numpy array\u001b[0m\u001b[1;33m\u001b[0m\u001b[1;33m\u001b[0m\u001b[1;33m\u001b[0m\u001b[0m\n\u001b[0;32m    133\u001b[0m         \u001b[0mband1\u001b[0m \u001b[1;33m=\u001b[0m \u001b[0mdataset\u001b[0m\u001b[1;33m.\u001b[0m\u001b[0mread\u001b[0m\u001b[1;33m(\u001b[0m\u001b[1;36m1\u001b[0m\u001b[1;33m)\u001b[0m\u001b[1;33m\u001b[0m\u001b[1;33m\u001b[0m\u001b[0m\n",
      "\u001b[1;32mC:\\Users\\rmcgr\\.conda\\envs\\zonal\\lib\\site-packages\\rasterio\\env.py\u001b[0m in \u001b[0;36mwrapper\u001b[1;34m(*args, **kwds)\u001b[0m\n\u001b[0;32m    443\u001b[0m \u001b[1;33m\u001b[0m\u001b[0m\n\u001b[0;32m    444\u001b[0m         \u001b[1;32mwith\u001b[0m \u001b[0menv_ctor\u001b[0m\u001b[1;33m(\u001b[0m\u001b[0msession\u001b[0m\u001b[1;33m=\u001b[0m\u001b[0msession\u001b[0m\u001b[1;33m)\u001b[0m\u001b[1;33m:\u001b[0m\u001b[1;33m\u001b[0m\u001b[1;33m\u001b[0m\u001b[0m\n\u001b[1;32m--> 445\u001b[1;33m             \u001b[1;32mreturn\u001b[0m \u001b[0mf\u001b[0m\u001b[1;33m(\u001b[0m\u001b[1;33m*\u001b[0m\u001b[0margs\u001b[0m\u001b[1;33m,\u001b[0m \u001b[1;33m**\u001b[0m\u001b[0mkwds\u001b[0m\u001b[1;33m)\u001b[0m\u001b[1;33m\u001b[0m\u001b[1;33m\u001b[0m\u001b[0m\n\u001b[0m\u001b[0;32m    446\u001b[0m \u001b[1;33m\u001b[0m\u001b[0m\n\u001b[0;32m    447\u001b[0m     \u001b[1;32mreturn\u001b[0m \u001b[0mwrapper\u001b[0m\u001b[1;33m\u001b[0m\u001b[1;33m\u001b[0m\u001b[0m\n",
      "\u001b[1;32mC:\\Users\\rmcgr\\.conda\\envs\\zonal\\lib\\site-packages\\rasterio\\__init__.py\u001b[0m in \u001b[0;36mopen\u001b[1;34m(fp, mode, driver, width, height, count, crs, transform, dtype, nodata, sharing, **kwargs)\u001b[0m\n\u001b[0;32m    217\u001b[0m         \u001b[1;31m# None.\u001b[0m\u001b[1;33m\u001b[0m\u001b[1;33m\u001b[0m\u001b[1;33m\u001b[0m\u001b[0m\n\u001b[0;32m    218\u001b[0m         \u001b[1;32mif\u001b[0m \u001b[0mmode\u001b[0m \u001b[1;33m==\u001b[0m \u001b[1;34m'r'\u001b[0m\u001b[1;33m:\u001b[0m\u001b[1;33m\u001b[0m\u001b[1;33m\u001b[0m\u001b[0m\n\u001b[1;32m--> 219\u001b[1;33m             \u001b[0ms\u001b[0m \u001b[1;33m=\u001b[0m \u001b[0mDatasetReader\u001b[0m\u001b[1;33m(\u001b[0m\u001b[0mpath\u001b[0m\u001b[1;33m,\u001b[0m \u001b[0mdriver\u001b[0m\u001b[1;33m=\u001b[0m\u001b[0mdriver\u001b[0m\u001b[1;33m,\u001b[0m \u001b[0msharing\u001b[0m\u001b[1;33m=\u001b[0m\u001b[0msharing\u001b[0m\u001b[1;33m,\u001b[0m \u001b[1;33m**\u001b[0m\u001b[0mkwargs\u001b[0m\u001b[1;33m)\u001b[0m\u001b[1;33m\u001b[0m\u001b[1;33m\u001b[0m\u001b[0m\n\u001b[0m\u001b[0;32m    220\u001b[0m         \u001b[1;32melif\u001b[0m \u001b[0mmode\u001b[0m \u001b[1;33m==\u001b[0m \u001b[1;34m'r+'\u001b[0m\u001b[1;33m:\u001b[0m\u001b[1;33m\u001b[0m\u001b[1;33m\u001b[0m\u001b[0m\n\u001b[0;32m    221\u001b[0m             \u001b[0ms\u001b[0m \u001b[1;33m=\u001b[0m \u001b[0mget_writer_for_path\u001b[0m\u001b[1;33m(\u001b[0m\u001b[0mpath\u001b[0m\u001b[1;33m)\u001b[0m\u001b[1;33m(\u001b[0m\u001b[0mpath\u001b[0m\u001b[1;33m,\u001b[0m \u001b[0mmode\u001b[0m\u001b[1;33m,\u001b[0m \u001b[0mdriver\u001b[0m\u001b[1;33m=\u001b[0m\u001b[0mdriver\u001b[0m\u001b[1;33m,\u001b[0m \u001b[0msharing\u001b[0m\u001b[1;33m=\u001b[0m\u001b[0msharing\u001b[0m\u001b[1;33m,\u001b[0m \u001b[1;33m**\u001b[0m\u001b[0mkwargs\u001b[0m\u001b[1;33m)\u001b[0m\u001b[1;33m\u001b[0m\u001b[1;33m\u001b[0m\u001b[0m\n",
      "\u001b[1;32mrasterio\\_base.pyx\u001b[0m in \u001b[0;36mrasterio._base.DatasetBase.__init__\u001b[1;34m()\u001b[0m\n",
      "\u001b[1;31mRasterioIOError\u001b[0m: C:/Users/rmcgr/Desktop/drone_class_copy/classify_J13_80_no_gcp_rgb/j13_01_rgb_comb_class2.tif: No such file or directory"
     ]
    }
   ],
   "source": [
    "%run apply_rgb_comb_classifier_multi.py -s C:/Users/rmcgr/Desktop/drone_class_copy/classify_J13_80_no_gcp_rgb/img_list.csv   \\\n",
    "    -d C:/Users/rmcgr/Desktop/drone_class_copy/classify_J13_80_no_gcp_rgb/ \\\n",
    "        -c C:/Users/rmcgr/Desktop/drone_class_copy/classify_J13_80_no_gcp_rgb/classify_J13_80_no_gcp_rgb_results_test.csv"
   ]
  },
  {
   "cell_type": "code",
   "execution_count": null,
   "metadata": {},
   "outputs": [],
   "source": [
    "#  "
   ]
  },
  {
   "cell_type": "code",
   "execution_count": null,
   "metadata": {},
   "outputs": [],
   "source": [
    "%run rgb_digital_aerial_photo_classifier.py -h"
   ]
  },
  {
   "cell_type": "code",
   "execution_count": null,
   "metadata": {},
   "outputs": [],
   "source": []
  },
  {
   "cell_type": "code",
   "execution_count": null,
   "metadata": {},
   "outputs": [],
   "source": []
  },
  {
   "cell_type": "code",
   "execution_count": null,
   "metadata": {},
   "outputs": [],
   "source": []
  },
  {
   "cell_type": "code",
   "execution_count": null,
   "metadata": {},
   "outputs": [],
   "source": [
    "%run rgb_digital_aerial_photo_classifier.py --reffile C:/DATA/todd/example/shp/grd_50m4_ID__100.tif --outfile C:/DATA/todd/example/shp/grd_50m4_ID__100_class.tif"
   ]
  },
  {
   "cell_type": "code",
   "execution_count": null,
   "metadata": {},
   "outputs": [],
   "source": []
  }
 ],
 "metadata": {
  "kernelspec": {
   "display_name": "Python 3",
   "language": "python",
   "name": "python3"
  },
  "language_info": {
   "codemirror_mode": {
    "name": "ipython",
    "version": 3
   },
   "file_extension": ".py",
   "mimetype": "text/x-python",
   "name": "python",
   "nbconvert_exporter": "python",
   "pygments_lexer": "ipython3",
   "version": "3.7.7"
  }
 },
 "nbformat": 4,
 "nbformat_minor": 2
}
